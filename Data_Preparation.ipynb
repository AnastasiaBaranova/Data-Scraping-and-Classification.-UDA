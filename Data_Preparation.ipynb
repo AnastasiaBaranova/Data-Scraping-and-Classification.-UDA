{
 "cells": [
  {
   "cell_type": "markdown",
   "metadata": {},
   "source": [
    "# <center>Unstructured Data Analysis</center>\n",
    "\n",
    "MASNA 2019 Students <br>\n",
    "Baranova Anastasia <br>\n",
    "Gutman Irina\n",
    "\n",
    "At first, plan was to parse litres.ru. In order to parse a book page, we need to somehow open it. We see two variants: first one is using selenium and imitating webbrowser and the other one is getting somewhere a list of book ids and opening pages using knowledge about url structure. We decided to try the second one. So the following code is aimed on getting book ids in order to parse a book page afterwards."
   ]
  },
  {
   "cell_type": "code",
   "execution_count": 22,
   "metadata": {},
   "outputs": [],
   "source": [
    "import requests\n",
    "from bs4 import BeautifulSoup\n",
    "import pandas as pd\n",
    "import matplotlib.pyplot as plt\n",
    "import json\n",
    "import time\n",
    "from collections import Counter\n",
    "import numpy as np\n",
    "%matplotlib inline  "
   ]
  },
  {
   "cell_type": "code",
   "execution_count": 20,
   "metadata": {},
   "outputs": [],
   "source": [
    "book_ids = []\n",
    "for i in range(1,100): \n",
    "    #the max range number here is a number of pages that should be scrolled down. \n",
    "    # On one page there are 100 books.\n",
    "    r = requests.get('https://www.litres.ru/luchshie-knigi/pechatnye-knigi/page-'+str(i)+'/')\n",
    "    html = r.text\n",
    "    soup = BeautifulSoup(html, \"html.parser\")    \n",
    "    for element in soup.findAll('a',class_='img-a'):\n",
    "        book_id = element.get('data-art')\n",
    "        book_ids.append(book_id)"
   ]
  },
  {
   "cell_type": "code",
   "execution_count": 19,
   "metadata": {},
   "outputs": [],
   "source": [
    "pd.DataFrame(book_ids).to_csv('book_ids.csv') #saving book_ids to csv"
   ]
  },
  {
   "cell_type": "markdown",
   "metadata": {},
   "source": [
    "Getting data on books from book's page"
   ]
  },
  {
   "cell_type": "code",
   "execution_count": 36,
   "metadata": {},
   "outputs": [],
   "source": [
    "book_ids = pd.read_csv('book_ids.csv')"
   ]
  },
  {
   "cell_type": "code",
   "execution_count": 50,
   "metadata": {},
   "outputs": [],
   "source": [
    "r = requests.get('https://www.litres.ru/38571833') #trying one book to check how it is going\n",
    "html = r.text\n",
    "soup = BeautifulSoup(html, \"html.parser\")\n",
    "soup"
   ]
  },
  {
   "cell_type": "markdown",
   "metadata": {},
   "source": [
    "And here we were banned by site. Oh. It appeared that there is a limit on requests after which the site wants to know that you are not a robot and shows CAPTCHA. We did not find a solution for this so we tried to find another way. One way could be using an API of Litres if there is one.\n",
    "\n",
    "So we looked for API of litres in case they have it and... https://www.litres.ru/o-kompanii/partneram/instrumenty/ It was Jackpot. On the site litress provide an xml file with all data on books. 5 Gigabytes of data, actually. Maybe too much for downloading and working with at one time, so let's try iterating through XML."
   ]
  },
  {
   "cell_type": "code",
   "execution_count": 1,
   "metadata": {},
   "outputs": [],
   "source": [
    "import xml.etree.ElementTree as ET"
   ]
  },
  {
   "cell_type": "code",
   "execution_count": 80,
   "metadata": {
    "collapsed": true
   },
   "outputs": [
    {
     "ename": "KeyboardInterrupt",
     "evalue": "",
     "output_type": "error",
     "traceback": [
      "\u001b[0;31m---------------------------------------------------------------------------\u001b[0m",
      "\u001b[0;31mKeyboardInterrupt\u001b[0m                         Traceback (most recent call last)",
      "\u001b[0;32m<ipython-input-80-4cf9f39f5ce3>\u001b[0m in \u001b[0;36m<module>\u001b[0;34m\u001b[0m\n\u001b[1;32m     20\u001b[0m         \u001b[0melem\u001b[0m\u001b[0;34m.\u001b[0m\u001b[0mclear\u001b[0m\u001b[0;34m(\u001b[0m\u001b[0;34m)\u001b[0m\u001b[0;34m\u001b[0m\u001b[0m\n\u001b[1;32m     21\u001b[0m     \u001b[0;32mif\u001b[0m \u001b[0melem\u001b[0m\u001b[0;34m.\u001b[0m\u001b[0mtag\u001b[0m \u001b[0;34m==\u001b[0m \u001b[0;34m\"art\"\u001b[0m \u001b[0;32mand\u001b[0m \u001b[0mevent\u001b[0m \u001b[0;34m==\u001b[0m \u001b[0;34m'end'\u001b[0m\u001b[0;34m:\u001b[0m\u001b[0;34m\u001b[0m\u001b[0m\n\u001b[0;32m---> 22\u001b[0;31m         \u001b[0mdata\u001b[0m \u001b[0;34m=\u001b[0m \u001b[0mdata\u001b[0m\u001b[0;34m.\u001b[0m\u001b[0mappend\u001b[0m\u001b[0;34m(\u001b[0m\u001b[0;34m{\u001b[0m\u001b[0;34m\"genre\"\u001b[0m\u001b[0;34m:\u001b[0m\u001b[0mgenre\u001b[0m\u001b[0;34m,\u001b[0m \u001b[0;34m\"annotation\"\u001b[0m\u001b[0;34m:\u001b[0m \u001b[0mannotation\u001b[0m\u001b[0;34m,\u001b[0m \u001b[0;34m\"title\"\u001b[0m\u001b[0;34m:\u001b[0m \u001b[0mtitle\u001b[0m\u001b[0;34m}\u001b[0m\u001b[0;34m,\u001b[0m \u001b[0mignore_index\u001b[0m\u001b[0;34m=\u001b[0m\u001b[0;32mTrue\u001b[0m\u001b[0;34m)\u001b[0m\u001b[0;34m\u001b[0m\u001b[0m\n\u001b[0m\u001b[1;32m     23\u001b[0m         \u001b[0mgenre\u001b[0m\u001b[0;34m=\u001b[0m\u001b[0;34m[\u001b[0m\u001b[0;34m]\u001b[0m\u001b[0;34m\u001b[0m\u001b[0m\n\u001b[1;32m     24\u001b[0m         \u001b[0mtitle\u001b[0m\u001b[0;34m=\u001b[0m\u001b[0;34m''\u001b[0m\u001b[0;34m\u001b[0m\u001b[0m\n",
      "\u001b[0;32m~/virtualenvs/multiverse/lib/python3.6/site-packages/pandas/core/frame.py\u001b[0m in \u001b[0;36mappend\u001b[0;34m(self, other, ignore_index, verify_integrity, sort)\u001b[0m\n\u001b[1;32m   7744\u001b[0m             \u001b[0mignore_index\u001b[0m\u001b[0;34m=\u001b[0m\u001b[0mignore_index\u001b[0m\u001b[0;34m,\u001b[0m\u001b[0;34m\u001b[0m\u001b[0m\n\u001b[1;32m   7745\u001b[0m             \u001b[0mverify_integrity\u001b[0m\u001b[0;34m=\u001b[0m\u001b[0mverify_integrity\u001b[0m\u001b[0;34m,\u001b[0m\u001b[0;34m\u001b[0m\u001b[0m\n\u001b[0;32m-> 7746\u001b[0;31m             \u001b[0msort\u001b[0m\u001b[0;34m=\u001b[0m\u001b[0msort\u001b[0m\u001b[0;34m,\u001b[0m\u001b[0;34m\u001b[0m\u001b[0m\n\u001b[0m\u001b[1;32m   7747\u001b[0m         )\n\u001b[1;32m   7748\u001b[0m \u001b[0;34m\u001b[0m\u001b[0m\n",
      "\u001b[0;32m~/virtualenvs/multiverse/lib/python3.6/site-packages/pandas/core/reshape/concat.py\u001b[0m in \u001b[0;36mconcat\u001b[0;34m(objs, axis, join, ignore_index, keys, levels, names, verify_integrity, sort, copy)\u001b[0m\n\u001b[1;32m    285\u001b[0m     )\n\u001b[1;32m    286\u001b[0m \u001b[0;34m\u001b[0m\u001b[0m\n\u001b[0;32m--> 287\u001b[0;31m     \u001b[0;32mreturn\u001b[0m \u001b[0mop\u001b[0m\u001b[0;34m.\u001b[0m\u001b[0mget_result\u001b[0m\u001b[0;34m(\u001b[0m\u001b[0;34m)\u001b[0m\u001b[0;34m\u001b[0m\u001b[0m\n\u001b[0m\u001b[1;32m    288\u001b[0m \u001b[0;34m\u001b[0m\u001b[0m\n\u001b[1;32m    289\u001b[0m \u001b[0;34m\u001b[0m\u001b[0m\n",
      "\u001b[0;32m~/virtualenvs/multiverse/lib/python3.6/site-packages/pandas/core/reshape/concat.py\u001b[0m in \u001b[0;36mget_result\u001b[0;34m(self)\u001b[0m\n\u001b[1;32m    501\u001b[0m \u001b[0;34m\u001b[0m\u001b[0m\n\u001b[1;32m    502\u001b[0m             new_data = concatenate_block_managers(\n\u001b[0;32m--> 503\u001b[0;31m                 \u001b[0mmgrs_indexers\u001b[0m\u001b[0;34m,\u001b[0m \u001b[0mself\u001b[0m\u001b[0;34m.\u001b[0m\u001b[0mnew_axes\u001b[0m\u001b[0;34m,\u001b[0m \u001b[0mconcat_axis\u001b[0m\u001b[0;34m=\u001b[0m\u001b[0mself\u001b[0m\u001b[0;34m.\u001b[0m\u001b[0mbm_axis\u001b[0m\u001b[0;34m,\u001b[0m \u001b[0mcopy\u001b[0m\u001b[0;34m=\u001b[0m\u001b[0mself\u001b[0m\u001b[0;34m.\u001b[0m\u001b[0mcopy\u001b[0m\u001b[0;34m,\u001b[0m\u001b[0;34m\u001b[0m\u001b[0m\n\u001b[0m\u001b[1;32m    504\u001b[0m             )\n\u001b[1;32m    505\u001b[0m             \u001b[0;32mif\u001b[0m \u001b[0;32mnot\u001b[0m \u001b[0mself\u001b[0m\u001b[0;34m.\u001b[0m\u001b[0mcopy\u001b[0m\u001b[0;34m:\u001b[0m\u001b[0;34m\u001b[0m\u001b[0m\n",
      "\u001b[0;32m~/virtualenvs/multiverse/lib/python3.6/site-packages/pandas/core/internals/concat.py\u001b[0m in \u001b[0;36mconcatenate_block_managers\u001b[0;34m(mgrs_indexers, axes, concat_axis, copy)\u001b[0m\n\u001b[1;32m     67\u001b[0m \u001b[0;34m\u001b[0m\u001b[0m\n\u001b[1;32m     68\u001b[0m             \u001b[0;32mif\u001b[0m \u001b[0;32mnot\u001b[0m \u001b[0mblk\u001b[0m\u001b[0;34m.\u001b[0m\u001b[0mis_extension\u001b[0m\u001b[0;34m:\u001b[0m\u001b[0;34m\u001b[0m\u001b[0m\n\u001b[0;32m---> 69\u001b[0;31m                 \u001b[0mvalues\u001b[0m \u001b[0;34m=\u001b[0m \u001b[0mconcat_compat\u001b[0m\u001b[0;34m(\u001b[0m\u001b[0mvals\u001b[0m\u001b[0;34m,\u001b[0m \u001b[0maxis\u001b[0m\u001b[0;34m=\u001b[0m\u001b[0mblk\u001b[0m\u001b[0;34m.\u001b[0m\u001b[0mndim\u001b[0m \u001b[0;34m-\u001b[0m \u001b[0;36m1\u001b[0m\u001b[0;34m)\u001b[0m\u001b[0;34m\u001b[0m\u001b[0m\n\u001b[0m\u001b[1;32m     70\u001b[0m             \u001b[0;32melse\u001b[0m\u001b[0;34m:\u001b[0m\u001b[0;34m\u001b[0m\u001b[0m\n\u001b[1;32m     71\u001b[0m                 \u001b[0;31m# TODO(EA2D): special-casing not needed with 2D EAs\u001b[0m\u001b[0;34m\u001b[0m\u001b[0;34m\u001b[0m\u001b[0m\n",
      "\u001b[0;32m~/virtualenvs/multiverse/lib/python3.6/site-packages/pandas/core/dtypes/concat.py\u001b[0m in \u001b[0;36mconcat_compat\u001b[0;34m(to_concat, axis)\u001b[0m\n\u001b[1;32m    178\u001b[0m                 \u001b[0mto_concat\u001b[0m \u001b[0;34m=\u001b[0m \u001b[0;34m[\u001b[0m\u001b[0mx\u001b[0m\u001b[0;34m.\u001b[0m\u001b[0mastype\u001b[0m\u001b[0;34m(\u001b[0m\u001b[0;34m\"object\"\u001b[0m\u001b[0;34m)\u001b[0m \u001b[0;32mfor\u001b[0m \u001b[0mx\u001b[0m \u001b[0;32min\u001b[0m \u001b[0mto_concat\u001b[0m\u001b[0;34m]\u001b[0m\u001b[0;34m\u001b[0m\u001b[0m\n\u001b[1;32m    179\u001b[0m \u001b[0;34m\u001b[0m\u001b[0m\n\u001b[0;32m--> 180\u001b[0;31m     \u001b[0;32mreturn\u001b[0m \u001b[0mnp\u001b[0m\u001b[0;34m.\u001b[0m\u001b[0mconcatenate\u001b[0m\u001b[0;34m(\u001b[0m\u001b[0mto_concat\u001b[0m\u001b[0;34m,\u001b[0m \u001b[0maxis\u001b[0m\u001b[0;34m=\u001b[0m\u001b[0maxis\u001b[0m\u001b[0;34m)\u001b[0m\u001b[0;34m\u001b[0m\u001b[0m\n\u001b[0m\u001b[1;32m    181\u001b[0m \u001b[0;34m\u001b[0m\u001b[0m\n\u001b[1;32m    182\u001b[0m \u001b[0;34m\u001b[0m\u001b[0m\n",
      "\u001b[0;32m<__array_function__ internals>\u001b[0m in \u001b[0;36mconcatenate\u001b[0;34m(*args, **kwargs)\u001b[0m\n",
      "\u001b[0;31mKeyboardInterrupt\u001b[0m: "
     ]
    }
   ],
   "source": [
    "# Here we tried to iterate through the xml. It took an hour and a half (then we stopped the process)\n",
    "# and we got 100'000 rows of data after that time. We decided it is enough for our aims.\n",
    "i=0\n",
    "genre=[]\n",
    "title=''\n",
    "annotation=''\n",
    "data = pd.DataFrame(columns=['genre', 'annotation', 'title'])\n",
    "for event, elem in ET.iterparse(\"detailed_data_raw.xml\", events=(\"start\",\"end\")):\n",
    "    if len(data)>=100: #example\n",
    "        break\n",
    "    if elem.tag == \"genre\" and event == 'end':\n",
    "        genre.append(elem.text)\n",
    "        elem.clear()\n",
    "    if elem.tag == \"book-title\" and event == 'end':\n",
    "        title = elem.text\n",
    "        elem.clear()\n",
    "    if elem.tag == \"p\" and event == 'end':\n",
    "        if elem.text is not None:\n",
    "            annotation = annotation + elem.text\n",
    "        elem.clear()\n",
    "    if elem.tag == \"art\" and event == 'end':\n",
    "        data = data.append({\"genre\":genre, \"annotation\": annotation, \"title\": title}, ignore_index=True)\n",
    "        genre=[]\n",
    "        title=''\n",
    "        annotation=''\n",
    "data.head()"
   ]
  },
  {
   "cell_type": "code",
   "execution_count": 82,
   "metadata": {},
   "outputs": [
    {
     "data": {
      "text/plain": [
       "116611"
      ]
     },
     "execution_count": 82,
     "metadata": {},
     "output_type": "execute_result"
    }
   ],
   "source": [
    "len(data) # we had 116611"
   ]
  },
  {
   "cell_type": "code",
   "execution_count": 83,
   "metadata": {},
   "outputs": [],
   "source": [
    "data.to_csv('raw_data.csv') #saving data to csv"
   ]
  },
  {
   "cell_type": "code",
   "execution_count": 4,
   "metadata": {},
   "outputs": [],
   "source": [
    "data=pd.read_csv('raw_data.csv')"
   ]
  },
  {
   "cell_type": "markdown",
   "metadata": {},
   "source": [
    "Manual Data clustering\n",
    "\n",
    "The problem with data is that there are more then 150 genres and it appeared that there could be more then 1 genre for a book. So that classificatopn would be difficult and ineffective. We decided to make two classes from data."
   ]
  },
  {
   "cell_type": "code",
   "execution_count": 5,
   "metadata": {},
   "outputs": [
    {
     "data": {
      "text/html": [
       "<div>\n",
       "<style scoped>\n",
       "    .dataframe tbody tr th:only-of-type {\n",
       "        vertical-align: middle;\n",
       "    }\n",
       "\n",
       "    .dataframe tbody tr th {\n",
       "        vertical-align: top;\n",
       "    }\n",
       "\n",
       "    .dataframe thead th {\n",
       "        text-align: right;\n",
       "    }\n",
       "</style>\n",
       "<table border=\"1\" class=\"dataframe\">\n",
       "  <thead>\n",
       "    <tr style=\"text-align: right;\">\n",
       "      <th></th>\n",
       "      <th>genre</th>\n",
       "      <th>annotation</th>\n",
       "      <th>title</th>\n",
       "    </tr>\n",
       "  </thead>\n",
       "  <tbody>\n",
       "    <tr>\n",
       "      <th>0</th>\n",
       "      <td>['sf_social', 'sf_history']</td>\n",
       "      <td>Мир на пороховой бочке, и несколько раз за век...</td>\n",
       "      <td>Армагед-дом</td>\n",
       "    </tr>\n",
       "    <tr>\n",
       "      <th>1</th>\n",
       "      <td>['magician_book']</td>\n",
       "      <td>В довольно-таки мрачном фэнтезийном мире зарож...</td>\n",
       "      <td>Скрут</td>\n",
       "    </tr>\n",
       "    <tr>\n",
       "      <th>2</th>\n",
       "      <td>['magician_book']</td>\n",
       "      <td>Ты можешь летать на птице или нырять на оседла...</td>\n",
       "      <td>Варан</td>\n",
       "    </tr>\n",
       "    <tr>\n",
       "      <th>3</th>\n",
       "      <td>['sf_space', 'narrative']</td>\n",
       "      <td>История одного батальона, отслеженная писателе...</td>\n",
       "      <td>Десант на Счастье</td>\n",
       "    </tr>\n",
       "    <tr>\n",
       "      <th>4</th>\n",
       "      <td>['sf_space', 'narrative']</td>\n",
       "      <td>Долгие годы последствия Галактической войны бу...</td>\n",
       "      <td>Повторная колонизация</td>\n",
       "    </tr>\n",
       "  </tbody>\n",
       "</table>\n",
       "</div>"
      ],
      "text/plain": [
       "                         genre  \\\n",
       "0  ['sf_social', 'sf_history']   \n",
       "1            ['magician_book']   \n",
       "2            ['magician_book']   \n",
       "3    ['sf_space', 'narrative']   \n",
       "4    ['sf_space', 'narrative']   \n",
       "\n",
       "                                          annotation                  title  \n",
       "0  Мир на пороховой бочке, и несколько раз за век...            Армагед-дом  \n",
       "1  В довольно-таки мрачном фэнтезийном мире зарож...                  Скрут  \n",
       "2  Ты можешь летать на птице или нырять на оседла...                  Варан  \n",
       "3  История одного батальона, отслеженная писателе...      Десант на Счастье  \n",
       "4  Долгие годы последствия Галактической войны бу...  Повторная колонизация  "
      ]
     },
     "execution_count": 5,
     "metadata": {},
     "output_type": "execute_result"
    }
   ],
   "source": [
    "data=data[['genre','annotation','title']].dropna() #getting rid from null values. \n",
    "#A small part of data was parsed with null values in annotation. This is due to null values in xml file.\n",
    "data.head()"
   ]
  },
  {
   "cell_type": "code",
   "execution_count": 6,
   "metadata": {},
   "outputs": [
    {
     "data": {
      "text/html": [
       "<div>\n",
       "<style scoped>\n",
       "    .dataframe tbody tr th:only-of-type {\n",
       "        vertical-align: middle;\n",
       "    }\n",
       "\n",
       "    .dataframe tbody tr th {\n",
       "        vertical-align: top;\n",
       "    }\n",
       "\n",
       "    .dataframe thead th {\n",
       "        text-align: right;\n",
       "    }\n",
       "</style>\n",
       "<table border=\"1\" class=\"dataframe\">\n",
       "  <thead>\n",
       "    <tr style=\"text-align: right;\">\n",
       "      <th></th>\n",
       "      <th>genre</th>\n",
       "      <th>annotation</th>\n",
       "      <th>title</th>\n",
       "    </tr>\n",
       "  </thead>\n",
       "  <tbody>\n",
       "    <tr>\n",
       "      <th>93264</th>\n",
       "      <td>['industries']</td>\n",
       "      <td>Книга представляет собой практическое руководс...</td>\n",
       "      <td>Управление предприятием в условиях дефицита об...</td>\n",
       "    </tr>\n",
       "    <tr>\n",
       "      <th>65875</th>\n",
       "      <td>['industries']</td>\n",
       "      <td>В шестнадцатом ежегодном аналитическом докладе...</td>\n",
       "      <td>Население России 2008. Шестнадцатый ежегодный ...</td>\n",
       "    </tr>\n",
       "    <tr>\n",
       "      <th>79951</th>\n",
       "      <td>['industries']</td>\n",
       "      <td>Владимир Познер, Алексей Венедиктов, Николай С...</td>\n",
       "      <td>Акулы интервью. 11 мастер-классов</td>\n",
       "    </tr>\n",
       "    <tr>\n",
       "      <th>9639</th>\n",
       "      <td>['industries']</td>\n",
       "      <td>Строительство представляет собой одну из важне...</td>\n",
       "      <td>Управление градостроительным комплексом в Росс...</td>\n",
       "    </tr>\n",
       "    <tr>\n",
       "      <th>65876</th>\n",
       "      <td>['industries']</td>\n",
       "      <td>В семнадцатом ежегодном аналитическом докладе,...</td>\n",
       "      <td>Население России 2009. Семнадцатый ежегодный д...</td>\n",
       "    </tr>\n",
       "    <tr>\n",
       "      <th>107201</th>\n",
       "      <td>['industries']</td>\n",
       "      <td>Книга посвящена созданию в компании общей стра...</td>\n",
       "      <td>Продажи. Выиграй в конкурентной борьбе</td>\n",
       "    </tr>\n",
       "    <tr>\n",
       "      <th>94133</th>\n",
       "      <td>['industries']</td>\n",
       "      <td>Учебное пособие подготовлено в соответствии с ...</td>\n",
       "      <td>Слесарное дело</td>\n",
       "    </tr>\n",
       "    <tr>\n",
       "      <th>59052</th>\n",
       "      <td>['industries']</td>\n",
       "      <td>В пособии изложено содержание, порядок и сроки...</td>\n",
       "      <td>Противопожарный инструктаж: Пособие по всем ви...</td>\n",
       "    </tr>\n",
       "    <tr>\n",
       "      <th>96733</th>\n",
       "      <td>['industries']</td>\n",
       "      <td>Приведены основные направления модернизации фе...</td>\n",
       "      <td>Технологическое оборудование для производства ...</td>\n",
       "    </tr>\n",
       "    <tr>\n",
       "      <th>101711</th>\n",
       "      <td>['industries']</td>\n",
       "      <td>В доступной форме и на высоком профессионально...</td>\n",
       "      <td>Страхование. Ответы на экзаменационные билеты</td>\n",
       "    </tr>\n",
       "  </tbody>\n",
       "</table>\n",
       "</div>"
      ],
      "text/plain": [
       "                 genre                                         annotation  \\\n",
       "93264   ['industries']  Книга представляет собой практическое руководс...   \n",
       "65875   ['industries']  В шестнадцатом ежегодном аналитическом докладе...   \n",
       "79951   ['industries']  Владимир Познер, Алексей Венедиктов, Николай С...   \n",
       "9639    ['industries']  Строительство представляет собой одну из важне...   \n",
       "65876   ['industries']  В семнадцатом ежегодном аналитическом докладе,...   \n",
       "107201  ['industries']  Книга посвящена созданию в компании общей стра...   \n",
       "94133   ['industries']  Учебное пособие подготовлено в соответствии с ...   \n",
       "59052   ['industries']  В пособии изложено содержание, порядок и сроки...   \n",
       "96733   ['industries']  Приведены основные направления модернизации фе...   \n",
       "101711  ['industries']  В доступной форме и на высоком профессионально...   \n",
       "\n",
       "                                                    title  \n",
       "93264   Управление предприятием в условиях дефицита об...  \n",
       "65875   Население России 2008. Шестнадцатый ежегодный ...  \n",
       "79951                   Акулы интервью. 11 мастер-классов  \n",
       "9639    Управление градостроительным комплексом в Росс...  \n",
       "65876   Население России 2009. Семнадцатый ежегодный д...  \n",
       "107201             Продажи. Выиграй в конкурентной борьбе  \n",
       "94133                                      Слесарное дело  \n",
       "59052   Противопожарный инструктаж: Пособие по всем ви...  \n",
       "96733   Технологическое оборудование для производства ...  \n",
       "101711      Страхование. Ответы на экзаменационные билеты  "
      ]
     },
     "execution_count": 6,
     "metadata": {},
     "output_type": "execute_result"
    }
   ],
   "source": [
    "# sampling with filter in order to manually check some genres.\n",
    "number_of_samples = 10\n",
    "df1 = data[data.genre == '[\\'industries\\']'].sample(number_of_samples)\n",
    "df1"
   ]
  },
  {
   "cell_type": "code",
   "execution_count": 26,
   "metadata": {},
   "outputs": [
    {
     "name": "stdout",
     "output_type": "stream",
     "text": [
      "10000  items done\n",
      "20000  items done\n",
      "30000  items done\n",
      "40000  items done\n",
      "50000  items done\n",
      "60000  items done\n",
      "70000  items done\n",
      "80000  items done\n",
      "90000  items done\n",
      "100000  items done\n"
     ]
    },
    {
     "name": "stderr",
     "output_type": "stream",
     "text": [
      "IOPub data rate exceeded.\n",
      "The notebook server will temporarily stop sending output\n",
      "to the client in order to avoid crashing it.\n",
      "To change this limit, set the config variable\n",
      "`--NotebookApp.iopub_data_rate_limit`.\n",
      "\n",
      "Current values:\n",
      "NotebookApp.iopub_data_rate_limit=1000000.0 (bytes/sec)\n",
      "NotebookApp.rate_limit_window=3.0 (secs)\n",
      "\n"
     ]
    }
   ],
   "source": [
    "#creating a list of genres in order to check how many of them there are and check the distribution\n",
    "list_of_genres=[]\n",
    "batch_size = 10000 # We had a limit on speed for our notebook so this is batching for limit speed artificially\n",
    "time_to_sleep = 15 #after each batch - wait 'time_to_sleep' seconds\n",
    "i=0 \n",
    "for genresJson in data['genre']:\n",
    "    genresJson = genresJson.replace('\\'', '\"')\n",
    "    genres = json.loads(genresJson)\n",
    "    list_of_genres+=genres\n",
    "    i += 1\n",
    "    if i % batch_size == 0:\n",
    "        print (i,\" items done\")\n",
    "        time.sleep(time_to_sleep)\n",
    "print(list_of_genres)"
   ]
  },
  {
   "cell_type": "code",
   "execution_count": 8,
   "metadata": {
    "collapsed": true
   },
   "outputs": [
    {
     "data": {
      "text/plain": [
       "[('short_story', 1700),\n",
       " ('sf', 1223),\n",
       " ('prose_rus_classic', 806),\n",
       " ('russian_contemporary', 760),\n",
       " ('detective', 654),\n",
       " ('det_action', 428),\n",
       " ('literature_19', 410),\n",
       " ('narrative', 400),\n",
       " ('fantasy_fight', 391),\n",
       " ('literature_20', 387),\n",
       " ('det_irony', 339),\n",
       " ('sf_social', 338),\n",
       " ('sf_action', 334),\n",
       " ('sf_humor', 297),\n",
       " ('prose_history', 294),\n",
       " ('love_contemporary', 275),\n",
       " ('ref_ref', 245),\n",
       " ('nonf_biography', 206),\n",
       " ('foreign_prose', 203),\n",
       " ('love_erotica', 199),\n",
       " ('sf_horror', 195),\n",
       " ('det_crime', 188),\n",
       " ('magician_book', 187),\n",
       " ('sf_space', 178),\n",
       " ('love_history', 174),\n",
       " ('det_police', 173),\n",
       " ('sci_history', 158),\n",
       " ('prose_classic', 156),\n",
       " ('child_det', 147),\n",
       " ('sf_heroic', 141),\n",
       " ('child_sf', 135),\n",
       " ('sf_history', 130),\n",
       " ('child_prose', 130),\n",
       " ('love_detective', 124),\n",
       " ('sci_juris', 122),\n",
       " ('prose_su_classics', 120),\n",
       " ('home_health', 114),\n",
       " ('foreign_sf', 112),\n",
       " ('child_tale', 111),\n",
       " ('dramaturgy', 105),\n",
       " ('popadanec', 103),\n",
       " ('humor_fantasy', 97),\n",
       " ('historical_fantasy', 93),\n",
       " ('nonf_publicism', 89),\n",
       " ('humor_prose', 86),\n",
       " ('poetry', 85),\n",
       " ('love_short', 84),\n",
       " ('foreign_love', 76),\n",
       " ('marketing', 74),\n",
       " ('home_pets', 71),\n",
       " ('city_fantasy', 68),\n",
       " ('sci_politics', 66),\n",
       " ('management', 65),\n",
       " ('home_cooking', 62),\n",
       " ('adv_history', 57),\n",
       " ('child_adv', 55),\n",
       " ('sf_detective', 48),\n",
       " ('accounting', 48),\n",
       " ('popular_business', 47),\n",
       " ('foreign_adventure', 47),\n",
       " ('russian_fantasy', 45),\n",
       " ('thriller', 44),\n",
       " ('reference', 42),\n",
       " ('home', 40),\n",
       " ('det_history', 40),\n",
       " ('adventure', 40),\n",
       " ('sci_medicine', 38),\n",
       " ('science', 34),\n",
       " ('economics', 34),\n",
       " ('psy_personal', 30),\n",
       " ('ref_encyc', 29),\n",
       " ('sf_cyberpunk', 28),\n",
       " ('paper_work', 27),\n",
       " ('home_sex', 27),\n",
       " ('child_education', 27),\n",
       " ('prose_counter', 26),\n",
       " ('nonf_criticism', 26),\n",
       " ('vampire_book', 25),\n",
       " ('home_garden', 25),\n",
       " ('foreign_edu', 25),\n",
       " ('essays', 23),\n",
       " ('foreign_detective', 22),\n",
       " ('architecture_book', 22),\n",
       " ('religion_esoterics', 21),\n",
       " ('psy_sex_and_family', 19),\n",
       " ('adv_animal', 19),\n",
       " ('prose_military', 18),\n",
       " ('foreign_antique', 18),\n",
       " ('children', 18),\n",
       " ('religion_rel', 17),\n",
       " ('humor_anecdote', 17),\n",
       " ('sketch', 16),\n",
       " ('foreign_fantasy', 16),\n",
       " ('foreign_children', 15),\n",
       " ('foreign_business', 15),\n",
       " ('adv_maritime', 15),\n",
       " ('sci_biology', 14),\n",
       " ('love_fantasy', 13),\n",
       " ('job_hunting', 13),\n",
       " ('sci_philosophy', 12),\n",
       " ('sci_culture', 12),\n",
       " ('org_behavior', 12),\n",
       " ('nonfiction', 12),\n",
       " ('det_classic', 12),\n",
       " ('home_entertain', 11),\n",
       " ('home_diy', 11),\n",
       " ('sci_tech', 10),\n",
       " ('psy_generic', 10),\n",
       " ('geo_guides', 10),\n",
       " ('foreign_humor', 10),\n",
       " ('aphorism_quote', 10),\n",
       " ('home_sport', 9),\n",
       " ('dragon_fantasy', 9),\n",
       " ('psy_social', 8),\n",
       " ('home_crafts', 8),\n",
       " ('foreign_contemporary', 8),\n",
       " ('psy_theraphy', 7),\n",
       " ('literature_18', 7),\n",
       " ('child_verse', 7),\n",
       " ('antique_european', 7),\n",
       " ('small_business', 6),\n",
       " ('religion_self', 6),\n",
       " ('real_estate', 6),\n",
       " ('foreign_religion', 6),\n",
       " ('foreign_dramaturgy', 6),\n",
       " ('antique_russian', 6),\n",
       " ('sci_linguistic', 5),\n",
       " ('personal_finance', 5),\n",
       " ('industries', 5),\n",
       " ('humor', 5),\n",
       " ('global_economy', 5),\n",
       " ('foreign_publicism', 5),\n",
       " ('stock', 4),\n",
       " ('sci_chem', 4),\n",
       " ('foreign_language', 4),\n",
       " ('det_hard', 4),\n",
       " ('det_espionage', 4),\n",
       " ('banking', 4),\n",
       " ('ref_guide', 3),\n",
       " ('psy_childs', 3),\n",
       " ('love_sf', 3),\n",
       " ('foreign_home', 3),\n",
       " ('computers', 3),\n",
       " ('comp_www', 3),\n",
       " ('adv_geo', 3),\n",
       " ('sociology_book', 2),\n",
       " ('religion', 2),\n",
       " ('pedagogy_book', 2),\n",
       " ('humor_verse', 2),\n",
       " ('geography_book', 2),\n",
       " ('economics_ref', 2),\n",
       " ('auto_regulations', 2),\n",
       " ('visual_arts', 1),\n",
       " ('upbringing_book', 1),\n",
       " ('unrecognised', 1),\n",
       " ('sci_religion', 1),\n",
       " ('sci_phys', 1),\n",
       " ('psy_alassic', 1),\n",
       " ('music_dancing', 1),\n",
       " ('foreign_poetry', 1),\n",
       " ('det_political', 1),\n",
       " ('comp_programming', 1),\n",
       " ('antique', 1)]"
      ]
     },
     "execution_count": 8,
     "metadata": {},
     "output_type": "execute_result"
    }
   ],
   "source": [
    "my_counter = Counter(list_of_genres)\n",
    "print(len(my_counter))\n",
    "[(l,k) for k,l in sorted([(j,i) for i,j in my_counter.items()], reverse=True)] # sorted by key counter"
   ]
  },
  {
   "cell_type": "code",
   "execution_count": 223,
   "metadata": {},
   "outputs": [],
   "source": [
    "# Getting to classes of books: connected with science and not connected.\n",
    "book_class=[]\n",
    "for row in data['genre']:\n",
    "    this_genre = row.strip('][').split(', ') \n",
    "    if  any(\"nonf\" in s for s in this_genre)\\ #nonfiction bookd\n",
    "        or any(\"economics\" in s for s in this_genre)\\ #economics since it is a big cluster and it is a science\n",
    "        or any(\"sci\" in s for s in this_genre): # science\n",
    "        book_class.append('science')\n",
    "        continue\n",
    "    else:\n",
    "        book_class.append('other')"
   ]
  },
  {
   "cell_type": "code",
   "execution_count": 224,
   "metadata": {},
   "outputs": [
    {
     "data": {
      "text/plain": [
       "([0, 1], <a list of 2 Text xticklabel objects>)"
      ]
     },
     "execution_count": 224,
     "metadata": {},
     "output_type": "execute_result"
    },
    {
     "data": {
      "image/png": "[encoded data removed]",
      "text/plain": [
       "<Figure size 432x288 with 1 Axes>"
      ]
     },
     "metadata": {
      "needs_background": "light"
     },
     "output_type": "display_data"
    }
   ],
   "source": [
    "plt.hist(book_class,align='mid',rwidth =1)"
   ]
  },
  {
   "cell_type": "code",
   "execution_count": 225,
   "metadata": {},
   "outputs": [],
   "source": [
    "data['book_class']=book_class"
   ]
  },
  {
   "cell_type": "code",
   "execution_count": 226,
   "metadata": {},
   "outputs": [
    {
     "data": {
      "text/html": [
       "<div>\n",
       "<style scoped>\n",
       "    .dataframe tbody tr th:only-of-type {\n",
       "        vertical-align: middle;\n",
       "    }\n",
       "\n",
       "    .dataframe tbody tr th {\n",
       "        vertical-align: top;\n",
       "    }\n",
       "\n",
       "    .dataframe thead th {\n",
       "        text-align: right;\n",
       "    }\n",
       "</style>\n",
       "<table border=\"1\" class=\"dataframe\">\n",
       "  <thead>\n",
       "    <tr style=\"text-align: right;\">\n",
       "      <th></th>\n",
       "      <th>genre</th>\n",
       "      <th>annotation</th>\n",
       "      <th>title</th>\n",
       "      <th>book_class</th>\n",
       "    </tr>\n",
       "  </thead>\n",
       "  <tbody>\n",
       "    <tr>\n",
       "      <th>0</th>\n",
       "      <td>['sf_social', 'sf_history']</td>\n",
       "      <td>Мир на пороховой бочке, и несколько раз за век...</td>\n",
       "      <td>Армагед-дом</td>\n",
       "      <td>other</td>\n",
       "    </tr>\n",
       "    <tr>\n",
       "      <th>1</th>\n",
       "      <td>['magician_book']</td>\n",
       "      <td>В довольно-таки мрачном фэнтезийном мире зарож...</td>\n",
       "      <td>Скрут</td>\n",
       "      <td>other</td>\n",
       "    </tr>\n",
       "    <tr>\n",
       "      <th>2</th>\n",
       "      <td>['magician_book']</td>\n",
       "      <td>Ты можешь летать на птице или нырять на оседла...</td>\n",
       "      <td>Варан</td>\n",
       "      <td>other</td>\n",
       "    </tr>\n",
       "    <tr>\n",
       "      <th>3</th>\n",
       "      <td>['sf_space', 'narrative']</td>\n",
       "      <td>История одного батальона, отслеженная писателе...</td>\n",
       "      <td>Десант на Счастье</td>\n",
       "      <td>other</td>\n",
       "    </tr>\n",
       "    <tr>\n",
       "      <th>4</th>\n",
       "      <td>['sf_space', 'narrative']</td>\n",
       "      <td>Долгие годы последствия Галактической войны бу...</td>\n",
       "      <td>Повторная колонизация</td>\n",
       "      <td>other</td>\n",
       "    </tr>\n",
       "  </tbody>\n",
       "</table>\n",
       "</div>"
      ],
      "text/plain": [
       "                         genre  \\\n",
       "0  ['sf_social', 'sf_history']   \n",
       "1            ['magician_book']   \n",
       "2            ['magician_book']   \n",
       "3    ['sf_space', 'narrative']   \n",
       "4    ['sf_space', 'narrative']   \n",
       "\n",
       "                                          annotation                  title  \\\n",
       "0  Мир на пороховой бочке, и несколько раз за век...            Армагед-дом   \n",
       "1  В довольно-таки мрачном фэнтезийном мире зарож...                  Скрут   \n",
       "2  Ты можешь летать на птице или нырять на оседла...                  Варан   \n",
       "3  История одного батальона, отслеженная писателе...      Десант на Счастье   \n",
       "4  Долгие годы последствия Галактической войны бу...  Повторная колонизация   \n",
       "\n",
       "  book_class  \n",
       "0      other  \n",
       "1      other  \n",
       "2      other  \n",
       "3      other  \n",
       "4      other  "
      ]
     },
     "execution_count": 226,
     "metadata": {},
     "output_type": "execute_result"
    }
   ],
   "source": [
    "data.head()"
   ]
  },
  {
   "cell_type": "code",
   "execution_count": 227,
   "metadata": {},
   "outputs": [],
   "source": [
    "data.to_csv('data_for_classification.csv') #saving data to csv with 2 classes"
   ]
  }
 ],
 "metadata": {
  "kernelspec": {
   "display_name": "Python 3",
   "language": "python",
   "name": "python3"
  },
  "language_info": {
   "codemirror_mode": {
    "name": "ipython",
    "version": 3
   },
   "file_extension": ".py",
   "mimetype": "text/x-python",
   "name": "python",
   "nbconvert_exporter": "python",
   "pygments_lexer": "ipython3",
   "version": "3.6.6"
  }
 },
 "nbformat": 4,
 "nbformat_minor": 2
}